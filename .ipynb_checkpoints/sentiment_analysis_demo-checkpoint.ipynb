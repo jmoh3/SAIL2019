{
 "cells": [
  {
   "cell_type": "code",
   "execution_count": 2,
   "metadata": {},
   "outputs": [],
   "source": [
    "import pandas as pd\n",
    "import numpy as np\n",
    "\n",
    "# Load the data from the csv into a dataframe\n",
    "df = pd.read_csv('word_sentiments.csv')\n",
    "# Drop unnecessary column\n",
    "df.drop('Unnamed: 0', axis='columns', inplace=True)"
   ]
  },
  {
   "cell_type": "code",
   "execution_count": 3,
   "metadata": {},
   "outputs": [],
   "source": [
    "from gensim.models import KeyedVectors\n",
    "\n",
    "filename = 'word2vecSmall.bin.gz'\n",
    "model = KeyedVectors.load_word2vec_format(filename, binary=True)\n",
    "\n",
    "# Add word embeddings to dataframe\n",
    "df['embedding'] = df['word'].apply(lambda x: model[x])"
   ]
  },
  {
   "cell_type": "code",
   "execution_count": 4,
   "metadata": {},
   "outputs": [],
   "source": [
    "# These are the words we want to test our model with - feel free to change these!\n",
    "blacklist = ['nice', 'mean', 'bad', 'good', 'sad', 'happy', 'fantastic', 'terrible']"
   ]
  },
  {
   "cell_type": "code",
   "execution_count": 5,
   "metadata": {},
   "outputs": [
    {
     "data": {
      "text/html": [
       "<div>\n",
       "<style scoped>\n",
       "    .dataframe tbody tr th:only-of-type {\n",
       "        vertical-align: middle;\n",
       "    }\n",
       "\n",
       "    .dataframe tbody tr th {\n",
       "        vertical-align: top;\n",
       "    }\n",
       "\n",
       "    .dataframe thead th {\n",
       "        text-align: right;\n",
       "    }\n",
       "</style>\n",
       "<table border=\"1\" class=\"dataframe\">\n",
       "  <thead>\n",
       "    <tr style=\"text-align: right;\">\n",
       "      <th></th>\n",
       "      <th>word</th>\n",
       "      <th>score</th>\n",
       "      <th>embedding</th>\n",
       "    </tr>\n",
       "  </thead>\n",
       "  <tbody>\n",
       "    <tr>\n",
       "      <th>16</th>\n",
       "      <td>good</td>\n",
       "      <td>0.500</td>\n",
       "      <td>[0.040527344, 0.0625, -0.017456055, 0.07861328...</td>\n",
       "    </tr>\n",
       "    <tr>\n",
       "      <th>106</th>\n",
       "      <td>bad</td>\n",
       "      <td>-0.875</td>\n",
       "      <td>[0.06298828, 0.12451172, 0.11328125, 0.0732421...</td>\n",
       "    </tr>\n",
       "    <tr>\n",
       "      <th>164</th>\n",
       "      <td>happy</td>\n",
       "      <td>0.875</td>\n",
       "      <td>[-0.0005187988, 0.16015625, 0.0016098022, 0.02...</td>\n",
       "    </tr>\n",
       "    <tr>\n",
       "      <th>649</th>\n",
       "      <td>Good</td>\n",
       "      <td>0.500</td>\n",
       "      <td>[-0.10888672, -0.07470703, -0.045410156, -0.00...</td>\n",
       "    </tr>\n",
       "    <tr>\n",
       "      <th>717</th>\n",
       "      <td>fantastic</td>\n",
       "      <td>0.375</td>\n",
       "      <td>[-0.122558594, -0.037841797, -0.12402344, 0.02...</td>\n",
       "    </tr>\n",
       "  </tbody>\n",
       "</table>\n",
       "</div>"
      ],
      "text/plain": [
       "          word  score                                          embedding\n",
       "16        good  0.500  [0.040527344, 0.0625, -0.017456055, 0.07861328...\n",
       "106        bad -0.875  [0.06298828, 0.12451172, 0.11328125, 0.0732421...\n",
       "164      happy  0.875  [-0.0005187988, 0.16015625, 0.0016098022, 0.02...\n",
       "649       Good  0.500  [-0.10888672, -0.07470703, -0.045410156, -0.00...\n",
       "717  fantastic  0.375  [-0.122558594, -0.037841797, -0.12402344, 0.02..."
      ]
     },
     "execution_count": 5,
     "metadata": {},
     "output_type": "execute_result"
    }
   ],
   "source": [
    "# This is the data we are testing our model on (contains words in blacklist)\n",
    "test_df = df[df['word'].str.lower().str.strip().isin(blacklist)].copy()\n",
    "test_df.head()"
   ]
  },
  {
   "cell_type": "code",
   "execution_count": 6,
   "metadata": {
    "scrolled": true
   },
   "outputs": [
    {
     "data": {
      "text/html": [
       "<div>\n",
       "<style scoped>\n",
       "    .dataframe tbody tr th:only-of-type {\n",
       "        vertical-align: middle;\n",
       "    }\n",
       "\n",
       "    .dataframe tbody tr th {\n",
       "        vertical-align: top;\n",
       "    }\n",
       "\n",
       "    .dataframe thead th {\n",
       "        text-align: right;\n",
       "    }\n",
       "</style>\n",
       "<table border=\"1\" class=\"dataframe\">\n",
       "  <thead>\n",
       "    <tr style=\"text-align: right;\">\n",
       "      <th></th>\n",
       "      <th>word</th>\n",
       "      <th>score</th>\n",
       "      <th>embedding</th>\n",
       "    </tr>\n",
       "  </thead>\n",
       "  <tbody>\n",
       "    <tr>\n",
       "      <th>0</th>\n",
       "      <td>is</td>\n",
       "      <td>0.125</td>\n",
       "      <td>[0.0070495605, -0.07324219, 0.171875, 0.022583...</td>\n",
       "    </tr>\n",
       "    <tr>\n",
       "      <th>1</th>\n",
       "      <td>not</td>\n",
       "      <td>-0.625</td>\n",
       "      <td>[0.08496094, -0.095214844, 0.119140625, 0.1118...</td>\n",
       "    </tr>\n",
       "    <tr>\n",
       "      <th>2</th>\n",
       "      <td>will</td>\n",
       "      <td>0.125</td>\n",
       "      <td>[0.048828125, 0.16699219, 0.16894531, 0.087402...</td>\n",
       "    </tr>\n",
       "    <tr>\n",
       "      <th>3</th>\n",
       "      <td>an</td>\n",
       "      <td>-0.125</td>\n",
       "      <td>[0.12597656, 0.19042969, 0.06982422, 0.0722656...</td>\n",
       "    </tr>\n",
       "    <tr>\n",
       "      <th>4</th>\n",
       "      <td>had</td>\n",
       "      <td>0.250</td>\n",
       "      <td>[-0.05810547, 0.05810547, 0.013305664, -0.0003...</td>\n",
       "    </tr>\n",
       "  </tbody>\n",
       "</table>\n",
       "</div>"
      ],
      "text/plain": [
       "   word  score                                          embedding\n",
       "0    is  0.125  [0.0070495605, -0.07324219, 0.171875, 0.022583...\n",
       "1   not -0.625  [0.08496094, -0.095214844, 0.119140625, 0.1118...\n",
       "2  will  0.125  [0.048828125, 0.16699219, 0.16894531, 0.087402...\n",
       "3    an -0.125  [0.12597656, 0.19042969, 0.06982422, 0.0722656...\n",
       "4   had  0.250  [-0.05810547, 0.05810547, 0.013305664, -0.0003..."
      ]
     },
     "execution_count": 6,
     "metadata": {},
     "output_type": "execute_result"
    }
   ],
   "source": [
    "# This is the data we are training our model on (words NOT in blacklist)\n",
    "train_df = df[~df['word'].str.lower().str.strip().isin(blacklist)].copy()\n",
    "train_df.head()"
   ]
  },
  {
   "cell_type": "code",
   "execution_count": 7,
   "metadata": {},
   "outputs": [],
   "source": [
    "# Ensures input to LinearRegression model is in acceptable format\n",
    "X_train = np.array(list(train_df['embedding'].values))\n",
    "Y_train = np.array(list(train_df['score'].values))\n",
    "\n",
    "X_test = np.array(list(test_df['embedding'].values))\n",
    "Y_test = np.array(list(test_df['score'].values))"
   ]
  },
  {
   "cell_type": "code",
   "execution_count": 8,
   "metadata": {
    "scrolled": true
   },
   "outputs": [
    {
     "data": {
      "text/plain": [
       "LinearRegression(copy_X=True, fit_intercept=True, n_jobs=None,\n",
       "         normalize=False)"
      ]
     },
     "execution_count": 8,
     "metadata": {},
     "output_type": "execute_result"
    }
   ],
   "source": [
    "from sklearn.linear_model import LinearRegression\n",
    "\n",
    "classifier = LinearRegression()\n",
    "\n",
    "classifier.fit(X_train, Y_train)"
   ]
  },
  {
   "cell_type": "code",
   "execution_count": 9,
   "metadata": {},
   "outputs": [
    {
     "name": "stdout",
     "output_type": "stream",
     "text": [
      "Score: 0.5823370625581086\n"
     ]
    }
   ],
   "source": [
    "print(\"Score:\", classifier.score(X_test, Y_test))"
   ]
  },
  {
   "cell_type": "code",
   "execution_count": 10,
   "metadata": {},
   "outputs": [
    {
     "name": "stdout",
     "output_type": "stream",
     "text": [
      "0.27819216\n",
      "-0.23761618\n"
     ]
    }
   ],
   "source": [
    "# Here's an example of output from the model - 'happy' should have a higher sentiment score than 'sad'\n",
    "print(classifier.predict([np.array(model['happy'])])[0])\n",
    "print(classifier.predict([np.array(model['sad'])])[0])"
   ]
  },
  {
   "cell_type": "code",
   "execution_count": 11,
   "metadata": {},
   "outputs": [
    {
     "data": {
      "text/plain": [
       "(300,)"
      ]
     },
     "execution_count": 11,
     "metadata": {},
     "output_type": "execute_result"
    }
   ],
   "source": [
    "# This gets the shape of coefficients of the LinearRegression model, which we can see is the same\n",
    "# as the length of the embedding input\n",
    "classifier.coef_.shape"
   ]
  },
  {
   "cell_type": "code",
   "execution_count": 12,
   "metadata": {},
   "outputs": [
    {
     "data": {
      "text/plain": [
       "0.059657402"
      ]
     },
     "execution_count": 12,
     "metadata": {},
     "output_type": "execute_result"
    }
   ],
   "source": [
    "# This is the intercept of the LinearRegression model\n",
    "classifier.intercept_"
   ]
  },
  {
   "cell_type": "code",
   "execution_count": 13,
   "metadata": {
    "scrolled": true
   },
   "outputs": [],
   "source": [
    "test_df['predicted_score'] = test_df['embedding'].apply(lambda x: classifier.predict(x.reshape(1, -1))[0])\n",
    "test_df.sort_values(by=['predicted_score'],inplace=True)"
   ]
  },
  {
   "cell_type": "code",
   "execution_count": 14,
   "metadata": {},
   "outputs": [
    {
     "data": {
      "text/html": [
       "<div>\n",
       "<style scoped>\n",
       "    .dataframe tbody tr th:only-of-type {\n",
       "        vertical-align: middle;\n",
       "    }\n",
       "\n",
       "    .dataframe tbody tr th {\n",
       "        vertical-align: top;\n",
       "    }\n",
       "\n",
       "    .dataframe thead th {\n",
       "        text-align: right;\n",
       "    }\n",
       "</style>\n",
       "<table border=\"1\" class=\"dataframe\">\n",
       "  <thead>\n",
       "    <tr style=\"text-align: right;\">\n",
       "      <th></th>\n",
       "      <th>word</th>\n",
       "      <th>score</th>\n",
       "      <th>embedding</th>\n",
       "      <th>predicted_score</th>\n",
       "    </tr>\n",
       "  </thead>\n",
       "  <tbody>\n",
       "    <tr>\n",
       "      <th>907</th>\n",
       "      <td>terrible</td>\n",
       "      <td>-0.625</td>\n",
       "      <td>[0.1640625, 0.19238281, 0.092285156, 0.1308593...</td>\n",
       "      <td>-0.473126</td>\n",
       "    </tr>\n",
       "    <tr>\n",
       "      <th>106</th>\n",
       "      <td>bad</td>\n",
       "      <td>-0.875</td>\n",
       "      <td>[0.06298828, 0.12451172, 0.11328125, 0.0732421...</td>\n",
       "      <td>-0.370561</td>\n",
       "    </tr>\n",
       "    <tr>\n",
       "      <th>8063</th>\n",
       "      <td>Terrible</td>\n",
       "      <td>-0.625</td>\n",
       "      <td>[0.296875, -0.06640625, 0.18457031, 0.00148773...</td>\n",
       "      <td>-0.345227</td>\n",
       "    </tr>\n",
       "    <tr>\n",
       "      <th>1833</th>\n",
       "      <td>Bad</td>\n",
       "      <td>-0.875</td>\n",
       "      <td>[-0.078125, -0.11279297, 0.018676758, 0.080566...</td>\n",
       "      <td>-0.327850</td>\n",
       "    </tr>\n",
       "    <tr>\n",
       "      <th>7451</th>\n",
       "      <td>SAD</td>\n",
       "      <td>-0.625</td>\n",
       "      <td>[-0.017211914, -0.23046875, -0.04345703, 0.062...</td>\n",
       "      <td>-0.237694</td>\n",
       "    </tr>\n",
       "  </tbody>\n",
       "</table>\n",
       "</div>"
      ],
      "text/plain": [
       "          word  score                                          embedding  \\\n",
       "907   terrible -0.625  [0.1640625, 0.19238281, 0.092285156, 0.1308593...   \n",
       "106        bad -0.875  [0.06298828, 0.12451172, 0.11328125, 0.0732421...   \n",
       "8063  Terrible -0.625  [0.296875, -0.06640625, 0.18457031, 0.00148773...   \n",
       "1833       Bad -0.875  [-0.078125, -0.11279297, 0.018676758, 0.080566...   \n",
       "7451       SAD -0.625  [-0.017211914, -0.23046875, -0.04345703, 0.062...   \n",
       "\n",
       "      predicted_score  \n",
       "907         -0.473126  \n",
       "106         -0.370561  \n",
       "8063        -0.345227  \n",
       "1833        -0.327850  \n",
       "7451        -0.237694  "
      ]
     },
     "execution_count": 14,
     "metadata": {},
     "output_type": "execute_result"
    }
   ],
   "source": [
    "test_df.head()"
   ]
  },
  {
   "cell_type": "code",
   "execution_count": 17,
   "metadata": {},
   "outputs": [
    {
     "data": {
      "text/plain": [
       "<matplotlib.axes._subplots.AxesSubplot at 0x126249be0>"
      ]
     },
     "execution_count": 17,
     "metadata": {},
     "output_type": "execute_result"
    },
    {
     "data": {
      "image/png": "[encoded data removed]",
      "text/plain": [
       "<Figure size 432x288 with 1 Axes>"
      ]
     },
     "metadata": {
      "needs_background": "light"
     },
     "output_type": "display_data"
    }
   ],
   "source": [
    "# A bar plot showing what our model thinks the sentiments of our test words are\n",
    "test_df.plot(x='word',y='predicted_score',kind='bar')"
   ]
  },
  {
   "cell_type": "code",
   "execution_count": 16,
   "metadata": {},
   "outputs": [
    {
     "data": {
      "text/plain": [
       "<matplotlib.axes._subplots.AxesSubplot at 0x1261ba160>"
      ]
     },
     "execution_count": 16,
     "metadata": {},
     "output_type": "execute_result"
    },
    {
     "data": {
      "image/png": "[encoded data removed]",
      "text/plain": [
       "<Figure size 432x288 with 1 Axes>"
      ]
     },
     "metadata": {
      "needs_background": "light"
     },
     "output_type": "display_data"
    }
   ],
   "source": [
    "# Here's what they actually are - should look similar to previous plot!\n",
    "test_df.plot(x='word',y='score',kind='bar')"
   ]
  }
 ],
 "metadata": {
  "kernelspec": {
   "display_name": "Python 3",
   "language": "python",
   "name": "python3"
  },
  "language_info": {
   "codemirror_mode": {
    "name": "ipython",
    "version": 3
   },
   "file_extension": ".py",
   "mimetype": "text/x-python",
   "name": "python",
   "nbconvert_exporter": "python",
   "pygments_lexer": "ipython3",
   "version": "3.7.0"
  }
 },
 "nbformat": 4,
 "nbformat_minor": 2
}
