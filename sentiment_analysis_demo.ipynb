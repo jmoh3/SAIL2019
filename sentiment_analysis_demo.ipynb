{
 "cells": [
  {
   "cell_type": "code",
   "execution_count": 1,
   "metadata": {},
   "outputs": [],
   "source": [
    "# pandas is a python library for data manipulation and analysis\n",
    "import pandas as pd\n",
    "# numpy is a python library that supports multidimensional array and matrix manipulation\n",
    "import numpy as np\n",
    "\n",
    "# Load the data from the csv into a dataframe\n",
    "df = pd.read_csv('word_sentiments.csv')\n",
    "# Drop unnecessary column (need inplace otherwise it doesn't save the changes to df)\n",
    "df.drop('Unnamed: 0', axis='columns', inplace=True)\n"
   ]
  },
  {
   "cell_type": "code",
   "execution_count": 2,
   "metadata": {},
   "outputs": [
    {
     "data": {
      "text/html": [
       "<div>\n",
       "<style scoped>\n",
       "    .dataframe tbody tr th:only-of-type {\n",
       "        vertical-align: middle;\n",
       "    }\n",
       "\n",
       "    .dataframe tbody tr th {\n",
       "        vertical-align: top;\n",
       "    }\n",
       "\n",
       "    .dataframe thead th {\n",
       "        text-align: right;\n",
       "    }\n",
       "</style>\n",
       "<table border=\"1\" class=\"dataframe\">\n",
       "  <thead>\n",
       "    <tr style=\"text-align: right;\">\n",
       "      <th></th>\n",
       "      <th>word</th>\n",
       "      <th>score</th>\n",
       "    </tr>\n",
       "  </thead>\n",
       "  <tbody>\n",
       "    <tr>\n",
       "      <th>0</th>\n",
       "      <td>is</td>\n",
       "      <td>0.125</td>\n",
       "    </tr>\n",
       "    <tr>\n",
       "      <th>1</th>\n",
       "      <td>not</td>\n",
       "      <td>-0.625</td>\n",
       "    </tr>\n",
       "    <tr>\n",
       "      <th>2</th>\n",
       "      <td>will</td>\n",
       "      <td>0.125</td>\n",
       "    </tr>\n",
       "    <tr>\n",
       "      <th>3</th>\n",
       "      <td>an</td>\n",
       "      <td>-0.125</td>\n",
       "    </tr>\n",
       "    <tr>\n",
       "      <th>4</th>\n",
       "      <td>had</td>\n",
       "      <td>0.250</td>\n",
       "    </tr>\n",
       "  </tbody>\n",
       "</table>\n",
       "</div>"
      ],
      "text/plain": [
       "   word  score\n",
       "0    is  0.125\n",
       "1   not -0.625\n",
       "2  will  0.125\n",
       "3    an -0.125\n",
       "4   had  0.250"
      ]
     },
     "execution_count": 2,
     "metadata": {},
     "output_type": "execute_result"
    }
   ],
   "source": [
    "# This is what the first 5 rows of our dataframe looks like\n",
    "df.head()\n"
   ]
  },
  {
   "cell_type": "code",
   "execution_count": 3,
   "metadata": {},
   "outputs": [],
   "source": [
    "from gensim.models import KeyedVectors\n",
    "\n",
    "# load the word embeddings into the model from file\n",
    "filename = 'word2vecSmall.bin.gz'\n",
    "model = KeyedVectors.load_word2vec_format(filename, binary=True)\n",
    "\n",
    "# Add column for word embeddings to dataframe\n",
    "# lambda functions are functions without names - what this is essentially saying is to go through\n",
    "# every word in our dataframe and access its word embedding from the model\n",
    "df['embedding'] = df['word'].apply(lambda x: model[x])\n"
   ]
  },
  {
   "cell_type": "code",
   "execution_count": 4,
   "metadata": {},
   "outputs": [],
   "source": [
    "# These are the words we want to test our model with - feel free to change these!\n",
    "# Ask audience to give us these words\n",
    "test_words = ['nice', 'mean', 'bad', 'good', 'sad', 'happy', 'fantastic', 'terrible']\n"
   ]
  },
  {
   "cell_type": "code",
   "execution_count": 5,
   "metadata": {},
   "outputs": [
    {
     "data": {
      "text/html": [
       "<div>\n",
       "<style scoped>\n",
       "    .dataframe tbody tr th:only-of-type {\n",
       "        vertical-align: middle;\n",
       "    }\n",
       "\n",
       "    .dataframe tbody tr th {\n",
       "        vertical-align: top;\n",
       "    }\n",
       "\n",
       "    .dataframe thead th {\n",
       "        text-align: right;\n",
       "    }\n",
       "</style>\n",
       "<table border=\"1\" class=\"dataframe\">\n",
       "  <thead>\n",
       "    <tr style=\"text-align: right;\">\n",
       "      <th></th>\n",
       "      <th>word</th>\n",
       "      <th>score</th>\n",
       "      <th>embedding</th>\n",
       "    </tr>\n",
       "  </thead>\n",
       "  <tbody>\n",
       "    <tr>\n",
       "      <th>16</th>\n",
       "      <td>good</td>\n",
       "      <td>0.500</td>\n",
       "      <td>[0.040527344, 0.0625, -0.017456055, 0.07861328...</td>\n",
       "    </tr>\n",
       "    <tr>\n",
       "      <th>106</th>\n",
       "      <td>bad</td>\n",
       "      <td>-0.875</td>\n",
       "      <td>[0.06298828, 0.12451172, 0.11328125, 0.0732421...</td>\n",
       "    </tr>\n",
       "    <tr>\n",
       "      <th>164</th>\n",
       "      <td>happy</td>\n",
       "      <td>0.875</td>\n",
       "      <td>[-0.0005187988, 0.16015625, 0.0016098022, 0.02...</td>\n",
       "    </tr>\n",
       "    <tr>\n",
       "      <th>649</th>\n",
       "      <td>Good</td>\n",
       "      <td>0.500</td>\n",
       "      <td>[-0.10888672, -0.07470703, -0.045410156, -0.00...</td>\n",
       "    </tr>\n",
       "    <tr>\n",
       "      <th>717</th>\n",
       "      <td>fantastic</td>\n",
       "      <td>0.375</td>\n",
       "      <td>[-0.122558594, -0.037841797, -0.12402344, 0.02...</td>\n",
       "    </tr>\n",
       "    <tr>\n",
       "      <th>750</th>\n",
       "      <td>sad</td>\n",
       "      <td>-0.625</td>\n",
       "      <td>[0.18945312, 0.045898438, 0.06689453, -0.04467...</td>\n",
       "    </tr>\n",
       "    <tr>\n",
       "      <th>907</th>\n",
       "      <td>terrible</td>\n",
       "      <td>-0.625</td>\n",
       "      <td>[0.1640625, 0.19238281, 0.092285156, 0.1308593...</td>\n",
       "    </tr>\n",
       "    <tr>\n",
       "      <th>1833</th>\n",
       "      <td>Bad</td>\n",
       "      <td>-0.875</td>\n",
       "      <td>[-0.078125, -0.11279297, 0.018676758, 0.080566...</td>\n",
       "    </tr>\n",
       "    <tr>\n",
       "      <th>2288</th>\n",
       "      <td>Happy</td>\n",
       "      <td>0.875</td>\n",
       "      <td>[0.05078125, -0.109375, -0.12597656, 0.1240234...</td>\n",
       "    </tr>\n",
       "    <tr>\n",
       "      <th>2638</th>\n",
       "      <td>GOOD</td>\n",
       "      <td>0.500</td>\n",
       "      <td>[-0.34179688, -0.41015625, 0.45117188, -0.2871...</td>\n",
       "    </tr>\n",
       "    <tr>\n",
       "      <th>6279</th>\n",
       "      <td>Fantastic</td>\n",
       "      <td>0.375</td>\n",
       "      <td>[-0.064453125, -0.079589844, -0.17675781, 0.00...</td>\n",
       "    </tr>\n",
       "    <tr>\n",
       "      <th>6365</th>\n",
       "      <td>Sad</td>\n",
       "      <td>-0.625</td>\n",
       "      <td>[0.22851562, -0.04663086, 0.11230469, -0.00616...</td>\n",
       "    </tr>\n",
       "    <tr>\n",
       "      <th>7451</th>\n",
       "      <td>SAD</td>\n",
       "      <td>-0.625</td>\n",
       "      <td>[-0.017211914, -0.23046875, -0.04345703, 0.062...</td>\n",
       "    </tr>\n",
       "    <tr>\n",
       "      <th>8063</th>\n",
       "      <td>Terrible</td>\n",
       "      <td>-0.625</td>\n",
       "      <td>[0.296875, -0.06640625, 0.18457031, 0.00148773...</td>\n",
       "    </tr>\n",
       "    <tr>\n",
       "      <th>11202</th>\n",
       "      <td>BAD</td>\n",
       "      <td>-0.875</td>\n",
       "      <td>[-0.11035156, -0.12060547, 0.29101562, 0.13183...</td>\n",
       "    </tr>\n",
       "  </tbody>\n",
       "</table>\n",
       "</div>"
      ],
      "text/plain": [
       "            word  score                                          embedding\n",
       "16          good  0.500  [0.040527344, 0.0625, -0.017456055, 0.07861328...\n",
       "106          bad -0.875  [0.06298828, 0.12451172, 0.11328125, 0.0732421...\n",
       "164        happy  0.875  [-0.0005187988, 0.16015625, 0.0016098022, 0.02...\n",
       "649         Good  0.500  [-0.10888672, -0.07470703, -0.045410156, -0.00...\n",
       "717    fantastic  0.375  [-0.122558594, -0.037841797, -0.12402344, 0.02...\n",
       "750          sad -0.625  [0.18945312, 0.045898438, 0.06689453, -0.04467...\n",
       "907     terrible -0.625  [0.1640625, 0.19238281, 0.092285156, 0.1308593...\n",
       "1833         Bad -0.875  [-0.078125, -0.11279297, 0.018676758, 0.080566...\n",
       "2288       Happy  0.875  [0.05078125, -0.109375, -0.12597656, 0.1240234...\n",
       "2638        GOOD  0.500  [-0.34179688, -0.41015625, 0.45117188, -0.2871...\n",
       "6279   Fantastic  0.375  [-0.064453125, -0.079589844, -0.17675781, 0.00...\n",
       "6365         Sad -0.625  [0.22851562, -0.04663086, 0.11230469, -0.00616...\n",
       "7451         SAD -0.625  [-0.017211914, -0.23046875, -0.04345703, 0.062...\n",
       "8063    Terrible -0.625  [0.296875, -0.06640625, 0.18457031, 0.00148773...\n",
       "11202        BAD -0.875  [-0.11035156, -0.12060547, 0.29101562, 0.13183..."
      ]
     },
     "execution_count": 5,
     "metadata": {},
     "output_type": "execute_result"
    }
   ],
   "source": [
    "# This is the data we are testing our model on (contains words in blacklist)\n",
    "# This is selecting all the rows in the dataframe whose rows are in the list of test words above, ignoring\n",
    "# uppercase/lowercase.\n",
    "test_df = df[df['word'].str.lower().str.strip().isin(test_words)].copy()\n",
    "test_df\n"
   ]
  },
  {
   "cell_type": "code",
   "execution_count": 6,
   "metadata": {
    "scrolled": true
   },
   "outputs": [
    {
     "data": {
      "text/html": [
       "<div>\n",
       "<style scoped>\n",
       "    .dataframe tbody tr th:only-of-type {\n",
       "        vertical-align: middle;\n",
       "    }\n",
       "\n",
       "    .dataframe tbody tr th {\n",
       "        vertical-align: top;\n",
       "    }\n",
       "\n",
       "    .dataframe thead th {\n",
       "        text-align: right;\n",
       "    }\n",
       "</style>\n",
       "<table border=\"1\" class=\"dataframe\">\n",
       "  <thead>\n",
       "    <tr style=\"text-align: right;\">\n",
       "      <th></th>\n",
       "      <th>word</th>\n",
       "      <th>score</th>\n",
       "      <th>embedding</th>\n",
       "    </tr>\n",
       "  </thead>\n",
       "  <tbody>\n",
       "    <tr>\n",
       "      <th>0</th>\n",
       "      <td>is</td>\n",
       "      <td>0.125</td>\n",
       "      <td>[0.0070495605, -0.07324219, 0.171875, 0.022583...</td>\n",
       "    </tr>\n",
       "    <tr>\n",
       "      <th>1</th>\n",
       "      <td>not</td>\n",
       "      <td>-0.625</td>\n",
       "      <td>[0.08496094, -0.095214844, 0.119140625, 0.1118...</td>\n",
       "    </tr>\n",
       "    <tr>\n",
       "      <th>2</th>\n",
       "      <td>will</td>\n",
       "      <td>0.125</td>\n",
       "      <td>[0.048828125, 0.16699219, 0.16894531, 0.087402...</td>\n",
       "    </tr>\n",
       "    <tr>\n",
       "      <th>3</th>\n",
       "      <td>an</td>\n",
       "      <td>-0.125</td>\n",
       "      <td>[0.12597656, 0.19042969, 0.06982422, 0.0722656...</td>\n",
       "    </tr>\n",
       "    <tr>\n",
       "      <th>4</th>\n",
       "      <td>had</td>\n",
       "      <td>0.250</td>\n",
       "      <td>[-0.05810547, 0.05810547, 0.013305664, -0.0003...</td>\n",
       "    </tr>\n",
       "  </tbody>\n",
       "</table>\n",
       "</div>"
      ],
      "text/plain": [
       "   word  score                                          embedding\n",
       "0    is  0.125  [0.0070495605, -0.07324219, 0.171875, 0.022583...\n",
       "1   not -0.625  [0.08496094, -0.095214844, 0.119140625, 0.1118...\n",
       "2  will  0.125  [0.048828125, 0.16699219, 0.16894531, 0.087402...\n",
       "3    an -0.125  [0.12597656, 0.19042969, 0.06982422, 0.0722656...\n",
       "4   had  0.250  [-0.05810547, 0.05810547, 0.013305664, -0.0003..."
      ]
     },
     "execution_count": 6,
     "metadata": {},
     "output_type": "execute_result"
    }
   ],
   "source": [
    "# This is the data we are training our model on (words NOT in blacklist - that's what the tilda does)\n",
    "train_df = df[~df['word'].str.lower().str.strip().isin(test_words)].copy()\n",
    "train_df.head()\n"
   ]
  },
  {
   "cell_type": "code",
   "execution_count": 7,
   "metadata": {},
   "outputs": [],
   "source": [
    "# Ensures input to LinearRegression model is in acceptable format\n",
    "# stack the word embeddings into a matrix of size (# words, len word embedding)\n",
    "X_train = np.stack(train_df['embedding'])\n",
    "\n",
    "# get sentiment scores of training words\n",
    "Y_train = train_df['score'].values\n"
   ]
  },
  {
   "cell_type": "code",
   "execution_count": 8,
   "metadata": {},
   "outputs": [
    {
     "name": "stdout",
     "output_type": "stream",
     "text": [
      "(13510, 300)\n",
      "(13510,)\n"
     ]
    }
   ],
   "source": [
    "print(X_train.shape)\n",
    "print(Y_train.shape)\n"
   ]
  },
  {
   "cell_type": "code",
   "execution_count": 9,
   "metadata": {},
   "outputs": [],
   "source": [
    "X_test = np.stack(test_df['embedding'])\n",
    "Y_test = test_df['score'].values\n"
   ]
  },
  {
   "cell_type": "code",
   "execution_count": 10,
   "metadata": {},
   "outputs": [
    {
     "name": "stdout",
     "output_type": "stream",
     "text": [
      "(15, 300)\n",
      "(15,)\n"
     ]
    }
   ],
   "source": [
    "print(X_test.shape)\n",
    "print(Y_test.shape)\n"
   ]
  },
  {
   "cell_type": "code",
   "execution_count": 11,
   "metadata": {
    "scrolled": true
   },
   "outputs": [
    {
     "data": {
      "text/plain": [
       "LinearRegression(copy_X=True, fit_intercept=True, n_jobs=None,\n",
       "         normalize=False)"
      ]
     },
     "execution_count": 11,
     "metadata": {},
     "output_type": "execute_result"
    }
   ],
   "source": [
    "# Need to import model from sci-kit-learn, a popular python machine learning library\n",
    "from sklearn.linear_model import LinearRegression\n",
    "\n",
    "classifier = LinearRegression()\n",
    "\n",
    "# Training step that Jason discussed - find optimal coefficients m1, m2, ... m300\n",
    "# and intercept b for all elements in word embedding to predict the sentiment score.\n",
    "classifier.fit(X_train, Y_train)\n"
   ]
  },
  {
   "cell_type": "code",
   "execution_count": 12,
   "metadata": {},
   "outputs": [
    {
     "data": {
      "text/plain": [
       "array([-0.04330287,  0.03325967,  0.03816696,  0.04843961,  0.07981406,\n",
       "       -0.06076173,  0.01017331,  0.04856687, -0.00135716, -0.07473864,\n",
       "       -0.03097415, -0.04675719,  0.0262326 ,  0.05185932,  0.0490732 ,\n",
       "       -0.00244857,  0.02835969,  0.00132706, -0.03190776,  0.04603943,\n",
       "        0.00556938, -0.00254063, -0.02255786,  0.03554244,  0.04884313,\n",
       "       -0.01828668, -0.04620603,  0.01534572, -0.02309323,  0.01346445,\n",
       "        0.03423472, -0.00210104, -0.03097966,  0.0007009 ,  0.0912795 ,\n",
       "       -0.01944929, -0.02661762, -0.00465296,  0.04830752, -0.03746604,\n",
       "        0.02412963,  0.04419665, -0.03330516,  0.0063473 ,  0.02287202,\n",
       "       -0.02392988, -0.00519567,  0.00932641,  0.03537469,  0.00642737,\n",
       "        0.04289673,  0.0192745 ,  0.05949803,  0.00900436, -0.02819826,\n",
       "        0.02409115,  0.02673918, -0.0018694 , -0.01616765, -0.04826446,\n",
       "        0.03122853, -0.02812627, -0.03289875,  0.0426879 ,  0.02761098,\n",
       "        0.08378344, -0.03968249,  0.01112152,  0.06402335, -0.025371  ,\n",
       "        0.03420456,  0.0210727 ,  0.10403999,  0.02201968, -0.0098497 ,\n",
       "        0.01775159, -0.00567206,  0.07553939,  0.05006292, -0.01263243,\n",
       "       -0.00890417,  0.01253635,  0.11890255,  0.01492313, -0.04867652,\n",
       "        0.02479372,  0.01946771, -0.02783144, -0.01211391,  0.0166245 ,\n",
       "       -0.02410084,  0.04618608,  0.004281  , -0.02658918,  0.01157501,\n",
       "       -0.01536102, -0.06767817, -0.05682615, -0.00956699, -0.01785798,\n",
       "       -0.05545333,  0.01598024, -0.02102769,  0.02582768,  0.00193147,\n",
       "        0.00345356, -0.09635253, -0.00783372, -0.03190567, -0.0037794 ,\n",
       "        0.00749679,  0.06113141, -0.03212456,  0.01604684,  0.00188494,\n",
       "       -0.00219601, -0.01716195, -0.05374964,  0.03011227, -0.06871293,\n",
       "        0.05152545,  0.0191553 ,  0.00910285, -0.03028544,  0.00127538,\n",
       "        0.08032107,  0.00114038, -0.00650718, -0.00871253,  0.06525232,\n",
       "        0.00409469, -0.06503481,  0.04918464, -0.03402876,  0.02406273,\n",
       "        0.04832604,  0.03253467,  0.01484992,  0.02827195,  0.08158131,\n",
       "       -0.0542999 , -0.01313912, -0.01479594, -0.04846227, -0.02371661,\n",
       "        0.07465217,  0.07339028,  0.00211808,  0.07802992,  0.0113934 ,\n",
       "       -0.09337424, -0.01033183, -0.02533241, -0.04936294, -0.02160798,\n",
       "       -0.00700884,  0.05816523,  0.03272097,  0.01112356, -0.0506334 ,\n",
       "        0.04603112,  0.00952302,  0.04636019,  0.04202745, -0.04870538,\n",
       "       -0.01131514, -0.0131904 ,  0.00852121, -0.07450764,  0.02939915,\n",
       "       -0.05192618, -0.04123414,  0.02936687, -0.01295529,  0.01683892,\n",
       "        0.08271527, -0.04213251, -0.00118477, -0.02621012, -0.02960246,\n",
       "       -0.03626826,  0.00845955,  0.05321925, -0.06835282, -0.04564739,\n",
       "        0.01923833, -0.04724234, -0.0450337 , -0.015978  , -0.04959068,\n",
       "       -0.03383486,  0.05892045,  0.01932728, -0.06395695, -0.00881444,\n",
       "       -0.00407807, -0.00503716,  0.04969306,  0.03887832, -0.0472828 ,\n",
       "        0.0056608 , -0.01972761, -0.05504842, -0.00854516, -0.03842751,\n",
       "       -0.06448101, -0.01150313, -0.04737655,  0.04121467,  0.0325263 ,\n",
       "       -0.00420369,  0.02364339, -0.06281689,  0.05509018,  0.03576001,\n",
       "        0.03085981,  0.08418277,  0.05464295,  0.01783615,  0.13245504,\n",
       "        0.02696371,  0.0035351 ,  0.02683323, -0.03548747, -0.03608963,\n",
       "        0.01417712, -0.02343195, -0.0109537 , -0.01402779,  0.00871966,\n",
       "       -0.02692021, -0.00670836, -0.09366268, -0.01833383,  0.03780276,\n",
       "        0.00969778, -0.02054757,  0.08253169,  0.01019319, -0.01987832,\n",
       "       -0.08621104,  0.01907867, -0.0507396 ,  0.09137006, -0.0185417 ,\n",
       "        0.00082321, -0.02283264, -0.00702041,  0.03496121,  0.04670262,\n",
       "       -0.04654843,  0.00524765,  0.01476091,  0.00553685,  0.01736602,\n",
       "        0.01881735, -0.0893362 ,  0.04032025, -0.05056942,  0.01773396,\n",
       "        0.0500077 , -0.03774834, -0.06947742, -0.01670518,  0.02183631,\n",
       "       -0.00047196,  0.08825255, -0.05517648, -0.02332705,  0.0532268 ,\n",
       "       -0.00377484, -0.01102456, -0.01440395,  0.0390821 ,  0.00908643,\n",
       "       -0.0077878 ,  0.00834749, -0.03971649, -0.06325247,  0.00351564,\n",
       "       -0.02164049,  0.03231424,  0.01357478,  0.01748301,  0.02344109,\n",
       "        0.02716313, -0.01465506, -0.01032226,  0.08715558,  0.04192791,\n",
       "       -0.06231219, -0.04015128,  0.08014119, -0.02284065,  0.04607353,\n",
       "       -0.03450718,  0.05833263, -0.03703557, -0.04599959, -0.05249755],\n",
       "      dtype=float32)"
      ]
     },
     "execution_count": 12,
     "metadata": {},
     "output_type": "execute_result"
    }
   ],
   "source": [
    "# This is the m1, m2, ..., m300 we wanted to find.\n",
    "classifier.coef_\n"
   ]
  },
  {
   "cell_type": "code",
   "execution_count": 13,
   "metadata": {},
   "outputs": [
    {
     "data": {
      "text/plain": [
       "(300,)"
      ]
     },
     "execution_count": 13,
     "metadata": {},
     "output_type": "execute_result"
    }
   ],
   "source": [
    "# This gets the shape of coefficients of the LinearRegression model, which we can see is the same\n",
    "# as the length of the embedding input.\n",
    "classifier.coef_.shape\n"
   ]
  },
  {
   "cell_type": "code",
   "execution_count": 14,
   "metadata": {},
   "outputs": [
    {
     "data": {
      "text/plain": [
       "0.059657402"
      ]
     },
     "execution_count": 14,
     "metadata": {},
     "output_type": "execute_result"
    }
   ],
   "source": [
    "# This is the intercept of the LinearRegression model (the 'b' in y = mx + b)\n",
    "classifier.intercept_\n"
   ]
  },
  {
   "cell_type": "code",
   "execution_count": 15,
   "metadata": {},
   "outputs": [
    {
     "name": "stdout",
     "output_type": "stream",
     "text": [
      "Score: 0.5823370625581086\n"
     ]
    }
   ],
   "source": [
    "# Gets the r^2 coefficient - don't need to know nitty gritty of this, it just measures how\n",
    "# accurate our model is.\n",
    "# We want our r^2 to be above 0 (positive correlation between predicted sentiment scores and actual scores)\n",
    "# and as close to 1 as possible (that would mean perfect correlation).\n",
    "\n",
    "# 0.58 is pretty good!\n",
    "print(\"Score:\", classifier.score(X_test, Y_test))\n"
   ]
  },
  {
   "cell_type": "code",
   "execution_count": 16,
   "metadata": {},
   "outputs": [],
   "source": [
    "# To see this in action, let's get a word from our test set that obviously has a positive sentiment and\n",
    "# one with an obvious negative sentiment\n",
    "happy_vector = [np.array(model['happy'])]\n",
    "sad_vector = [np.array(model['sad'])]\n"
   ]
  },
  {
   "cell_type": "code",
   "execution_count": 17,
   "metadata": {},
   "outputs": [
    {
     "name": "stdout",
     "output_type": "stream",
     "text": [
      "[0.27819216]\n",
      "[-0.23761618]\n"
     ]
    }
   ],
   "source": [
    "# Here's an example of output from the model - 'happy' should have a higher sentiment score than 'sad'\n",
    "print(classifier.predict(happy_vector))\n",
    "print(classifier.predict(sad_vector))\n"
   ]
  },
  {
   "cell_type": "code",
   "execution_count": 18,
   "metadata": {
    "scrolled": true
   },
   "outputs": [],
   "source": [
    "# It would help us humans understand what's going on better if we had a way to visualize these predictions.\n",
    "# pandas has some pretty nice built in plotting features - we're going to put the predicted scores\n",
    "# into the dataframe so pandas can plot it for us.\n",
    "#\n",
    "# We can create a new column called predicted_score and set it equal to the classifier's output for the X_test\n",
    "# matrix we made above.\n",
    "test_df['predicted_score'] = classifier.predict(X_test)\n",
    "\n",
    "# To make our plot prettier let's sort by predicted scores, so bars will be displayed in order of \n",
    "# lowest to highest predicted sentiment\n",
    "test_df.sort_values(by=['predicted_score'],inplace=True)\n"
   ]
  },
  {
   "cell_type": "code",
   "execution_count": 19,
   "metadata": {},
   "outputs": [
    {
     "data": {
      "text/html": [
       "<div>\n",
       "<style scoped>\n",
       "    .dataframe tbody tr th:only-of-type {\n",
       "        vertical-align: middle;\n",
       "    }\n",
       "\n",
       "    .dataframe tbody tr th {\n",
       "        vertical-align: top;\n",
       "    }\n",
       "\n",
       "    .dataframe thead th {\n",
       "        text-align: right;\n",
       "    }\n",
       "</style>\n",
       "<table border=\"1\" class=\"dataframe\">\n",
       "  <thead>\n",
       "    <tr style=\"text-align: right;\">\n",
       "      <th></th>\n",
       "      <th>word</th>\n",
       "      <th>score</th>\n",
       "      <th>embedding</th>\n",
       "      <th>predicted_score</th>\n",
       "    </tr>\n",
       "  </thead>\n",
       "  <tbody>\n",
       "    <tr>\n",
       "      <th>907</th>\n",
       "      <td>terrible</td>\n",
       "      <td>-0.625</td>\n",
       "      <td>[0.1640625, 0.19238281, 0.092285156, 0.1308593...</td>\n",
       "      <td>-0.473126</td>\n",
       "    </tr>\n",
       "    <tr>\n",
       "      <th>106</th>\n",
       "      <td>bad</td>\n",
       "      <td>-0.875</td>\n",
       "      <td>[0.06298828, 0.12451172, 0.11328125, 0.0732421...</td>\n",
       "      <td>-0.370561</td>\n",
       "    </tr>\n",
       "    <tr>\n",
       "      <th>8063</th>\n",
       "      <td>Terrible</td>\n",
       "      <td>-0.625</td>\n",
       "      <td>[0.296875, -0.06640625, 0.18457031, 0.00148773...</td>\n",
       "      <td>-0.345227</td>\n",
       "    </tr>\n",
       "    <tr>\n",
       "      <th>1833</th>\n",
       "      <td>Bad</td>\n",
       "      <td>-0.875</td>\n",
       "      <td>[-0.078125, -0.11279297, 0.018676758, 0.080566...</td>\n",
       "      <td>-0.327850</td>\n",
       "    </tr>\n",
       "    <tr>\n",
       "      <th>7451</th>\n",
       "      <td>SAD</td>\n",
       "      <td>-0.625</td>\n",
       "      <td>[-0.017211914, -0.23046875, -0.04345703, 0.062...</td>\n",
       "      <td>-0.237694</td>\n",
       "    </tr>\n",
       "    <tr>\n",
       "      <th>750</th>\n",
       "      <td>sad</td>\n",
       "      <td>-0.625</td>\n",
       "      <td>[0.18945312, 0.045898438, 0.06689453, -0.04467...</td>\n",
       "      <td>-0.237616</td>\n",
       "    </tr>\n",
       "    <tr>\n",
       "      <th>11202</th>\n",
       "      <td>BAD</td>\n",
       "      <td>-0.875</td>\n",
       "      <td>[-0.11035156, -0.12060547, 0.29101562, 0.13183...</td>\n",
       "      <td>-0.216126</td>\n",
       "    </tr>\n",
       "    <tr>\n",
       "      <th>6365</th>\n",
       "      <td>Sad</td>\n",
       "      <td>-0.625</td>\n",
       "      <td>[0.22851562, -0.04663086, 0.11230469, -0.00616...</td>\n",
       "      <td>-0.173545</td>\n",
       "    </tr>\n",
       "    <tr>\n",
       "      <th>6279</th>\n",
       "      <td>Fantastic</td>\n",
       "      <td>0.375</td>\n",
       "      <td>[-0.064453125, -0.079589844, -0.17675781, 0.00...</td>\n",
       "      <td>-0.006199</td>\n",
       "    </tr>\n",
       "    <tr>\n",
       "      <th>2638</th>\n",
       "      <td>GOOD</td>\n",
       "      <td>0.500</td>\n",
       "      <td>[-0.34179688, -0.41015625, 0.45117188, -0.2871...</td>\n",
       "      <td>0.113062</td>\n",
       "    </tr>\n",
       "    <tr>\n",
       "      <th>16</th>\n",
       "      <td>good</td>\n",
       "      <td>0.500</td>\n",
       "      <td>[0.040527344, 0.0625, -0.017456055, 0.07861328...</td>\n",
       "      <td>0.160842</td>\n",
       "    </tr>\n",
       "    <tr>\n",
       "      <th>717</th>\n",
       "      <td>fantastic</td>\n",
       "      <td>0.375</td>\n",
       "      <td>[-0.122558594, -0.037841797, -0.12402344, 0.02...</td>\n",
       "      <td>0.186539</td>\n",
       "    </tr>\n",
       "    <tr>\n",
       "      <th>649</th>\n",
       "      <td>Good</td>\n",
       "      <td>0.500</td>\n",
       "      <td>[-0.10888672, -0.07470703, -0.045410156, -0.00...</td>\n",
       "      <td>0.204315</td>\n",
       "    </tr>\n",
       "    <tr>\n",
       "      <th>164</th>\n",
       "      <td>happy</td>\n",
       "      <td>0.875</td>\n",
       "      <td>[-0.0005187988, 0.16015625, 0.0016098022, 0.02...</td>\n",
       "      <td>0.278192</td>\n",
       "    </tr>\n",
       "    <tr>\n",
       "      <th>2288</th>\n",
       "      <td>Happy</td>\n",
       "      <td>0.875</td>\n",
       "      <td>[0.05078125, -0.109375, -0.12597656, 0.1240234...</td>\n",
       "      <td>0.348030</td>\n",
       "    </tr>\n",
       "  </tbody>\n",
       "</table>\n",
       "</div>"
      ],
      "text/plain": [
       "            word  score                                          embedding  \\\n",
       "907     terrible -0.625  [0.1640625, 0.19238281, 0.092285156, 0.1308593...   \n",
       "106          bad -0.875  [0.06298828, 0.12451172, 0.11328125, 0.0732421...   \n",
       "8063    Terrible -0.625  [0.296875, -0.06640625, 0.18457031, 0.00148773...   \n",
       "1833         Bad -0.875  [-0.078125, -0.11279297, 0.018676758, 0.080566...   \n",
       "7451         SAD -0.625  [-0.017211914, -0.23046875, -0.04345703, 0.062...   \n",
       "750          sad -0.625  [0.18945312, 0.045898438, 0.06689453, -0.04467...   \n",
       "11202        BAD -0.875  [-0.11035156, -0.12060547, 0.29101562, 0.13183...   \n",
       "6365         Sad -0.625  [0.22851562, -0.04663086, 0.11230469, -0.00616...   \n",
       "6279   Fantastic  0.375  [-0.064453125, -0.079589844, -0.17675781, 0.00...   \n",
       "2638        GOOD  0.500  [-0.34179688, -0.41015625, 0.45117188, -0.2871...   \n",
       "16          good  0.500  [0.040527344, 0.0625, -0.017456055, 0.07861328...   \n",
       "717    fantastic  0.375  [-0.122558594, -0.037841797, -0.12402344, 0.02...   \n",
       "649         Good  0.500  [-0.10888672, -0.07470703, -0.045410156, -0.00...   \n",
       "164        happy  0.875  [-0.0005187988, 0.16015625, 0.0016098022, 0.02...   \n",
       "2288       Happy  0.875  [0.05078125, -0.109375, -0.12597656, 0.1240234...   \n",
       "\n",
       "       predicted_score  \n",
       "907          -0.473126  \n",
       "106          -0.370561  \n",
       "8063         -0.345227  \n",
       "1833         -0.327850  \n",
       "7451         -0.237694  \n",
       "750          -0.237616  \n",
       "11202        -0.216126  \n",
       "6365         -0.173545  \n",
       "6279         -0.006199  \n",
       "2638          0.113062  \n",
       "16            0.160842  \n",
       "717           0.186539  \n",
       "649           0.204315  \n",
       "164           0.278192  \n",
       "2288          0.348030  "
      ]
     },
     "execution_count": 19,
     "metadata": {},
     "output_type": "execute_result"
    }
   ],
   "source": [
    "# We can now see the new column we've added into the dataframe.\n",
    "test_df\n"
   ]
  },
  {
   "cell_type": "code",
   "execution_count": 21,
   "metadata": {},
   "outputs": [
    {
     "data": {
      "text/plain": [
       "<matplotlib.axes._subplots.AxesSubplot at 0x12e7f1240>"
      ]
     },
     "execution_count": 21,
     "metadata": {},
     "output_type": "execute_result"
    },
    {
     "data": {
      "image/png": "[encoded data removed]",
      "text/plain": [
       "<Figure size 432x288 with 1 Axes>"
      ]
     },
     "metadata": {
      "needs_background": "light"
     },
     "output_type": "display_data"
    }
   ],
   "source": [
    "# A bar plot showing what our model thinks the sentiments of our test words are and what they actually are\n",
    "# Doesn't get the magnitude of positive or negative sentiment that well, but it gets the general idea!\n",
    "test_df.plot.bar(x='word',y=['predicted_score', 'score'])\n"
   ]
  }
 ],
 "metadata": {
  "kernelspec": {
   "display_name": "Python 3",
   "language": "python",
   "name": "python3"
  },
  "language_info": {
   "codemirror_mode": {
    "name": "ipython",
    "version": 3
   },
   "file_extension": ".py",
   "mimetype": "text/x-python",
   "name": "python",
   "nbconvert_exporter": "python",
   "pygments_lexer": "ipython3",
   "version": "3.7.0"
  }
 },
 "nbformat": 4,
 "nbformat_minor": 2
}
